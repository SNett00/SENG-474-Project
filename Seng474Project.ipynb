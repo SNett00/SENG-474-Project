{
  "nbformat": 4,
  "nbformat_minor": 0,
  "metadata": {
    "colab": {
      "name": "Seng474Project.ipynb",
      "provenance": [],
      "collapsed_sections": [],
      "toc_visible": true
    },
    "kernelspec": {
      "name": "python3",
      "display_name": "Python 3"
    },
    "language_info": {
      "name": "python"
    }
  },
  "cells": [
    {
      "cell_type": "code",
      "source": [
        "!pip3 install jams"
      ],
      "metadata": {
        "id": "Xd1XGIwwB7Lg"
      },
      "execution_count": null,
      "outputs": []
    },
    {
      "cell_type": "code",
      "source": [
        "import numpy as np\n",
        "import os\n",
        "import pprint\n",
        "\n",
        "import matplotlib.pyplot as plt\n",
        "\n",
        "from sklearn.model_selection import train_test_split\n",
        "\n",
        "from sklearn.neural_network import MLPClassifier\n",
        "from sklearn.svm import LinearSVC\n",
        "from sklearn.svm import SVC\n",
        "from sklearn.metrics import accuracy_score\n",
        "\n",
        "import scipy.io.wavfile as wav\n",
        "import jams\n"
      ],
      "metadata": {
        "id": "pwshn6LfKd5X"
      },
      "execution_count": 7,
      "outputs": []
    },
    {
      "cell_type": "markdown",
      "source": [
        "## Process input"
      ],
      "metadata": {
        "id": "TQE8nV4nh1f2"
      }
    },
    {
      "cell_type": "code",
      "source": [
        "def timeKey(t):\n",
        "    return t[0]\n",
        "\n",
        "def loadNoteData(data):\n",
        "    f = open('/content/JamsFiles/04_Rock1-90-C_solo.jams', 'r')\n",
        "\n",
        "   # data = f.read()\n",
        "    data = jams.load(f)\n",
        "    notes = []\n",
        "\n",
        "    for i in range (0, 6):\n",
        "        for j in data.annotations[\"note_midi\"][i][\"data\"]:\n",
        "            notes.append([j[0],j[1],j[2]])\n",
        "            \n",
        "    notes.sort(key=timeKey)\n",
        "\n",
        "    #pprint.pprint(notes)\n",
        "    return notes"
      ],
      "metadata": {
        "id": "Zn8-Wa-XEcV9"
      },
      "execution_count": 22,
      "outputs": []
    },
    {
      "cell_type": "code",
      "source": [
        "#iterate through each song, one frame at a time based off hop and window size\n",
        "def songProcess(audio,notes,sr,hopSize = 1024,winSize = 4096,features = [],labels = []):\n",
        "\n",
        "  offsets = np.arange(0,len(audio),hopSize)\n",
        "  for (i,o) in enumerate(offsets):\n",
        "    frame = audio[o:o+winSize]\n",
        "    note = 0\n",
        "    tiebreak = []\n",
        "\n",
        "    #Create labels from jams file data -- if mulitple notes in frame, take longest duration\n",
        "    for i,(time,duration,value) in enumerate(notes):      \n",
        "      note_start = time*sr\n",
        "      note_end = (time+duration)*sr\n",
        "      if o <= note_start < o+winSize:                 #note starts in frame\n",
        "        tiebreak.append(i)\n",
        "      elif o <= note_end < o+winSize:                  #note ends in frame\n",
        "        tiebreak.append(i)\n",
        "      elif note_start < o and o+winSize <= note_end: #note continous thru frame\n",
        "        note = value\n",
        "\n",
        "    #if mulitple notes in frame, choose one that played the longest in frame\n",
        "    if len(tiebreak) > 0:\n",
        "      if len(tiebreak) == 1:\n",
        "        note = notes[tiebreak[0]][2]\n",
        "      else:\n",
        "        max_dur = 0\n",
        "        max_note = 0\n",
        "        for index in tiebreak:\n",
        "          note_start = notes[index][0] * sr\n",
        "          note_duration = notes[index][1] * sr\n",
        "          frame_dur = 0\n",
        "          if note_start < o:\n",
        "            frame_dur = note_duration+note_start-o\n",
        "          elif note_start+note_duration > o+winSize:\n",
        "            frame_dur = o+winSize - note_start\n",
        "          else:\n",
        "            frame_dur = note_duration\n",
        "\n",
        "          if frame_dur > max_dur:\n",
        "            max_dur = frame_dur\n",
        "            max_note = notes[index][2]\n",
        "        note = max_note\n",
        "\n",
        "    features.append(frame)    #Raw frame used for features. Maybe process somehow??\n",
        "    labels.append(int(note))  #quantize to the nearest midi value\n",
        "\n",
        "  return features,labels"
      ],
      "metadata": {
        "id": "iBBc63iIocsB"
      },
      "execution_count": 32,
      "outputs": []
    },
    {
      "cell_type": "markdown",
      "source": [
        "## Data classification using Neural Network"
      ],
      "metadata": {
        "id": "4IULUskjWZhR"
      }
    },
    {
      "cell_type": "code",
      "source": [
        "def neuralNetwork(XTrain, XTest, YTrain, YTest):\n",
        "  #Currently using successful values from A1, further adjustment with the processed dataset will be needed\n",
        "  MLPC = MLPClassifier(hidden_layer_sizes=(71, 21), max_iter=10000, alpha=0.0001, learning_rate_init=0.001, solver='adam')\n",
        "  MLPC.fit(XTrain, YTrain)\n",
        "\n",
        "  return accuracy_score(YTest, MLPC.predict(XTest))"
      ],
      "metadata": {
        "id": "zQ3YbkqhXLv9"
      },
      "execution_count": null,
      "outputs": []
    },
    {
      "cell_type": "markdown",
      "source": [
        ""
      ],
      "metadata": {
        "id": "NMmySWxcgwn9"
      }
    },
    {
      "cell_type": "markdown",
      "source": [
        "## Data classification using SVM"
      ],
      "metadata": {
        "id": "0ba6L3QgXODZ"
      }
    },
    {
      "cell_type": "code",
      "source": [
        "def gaussianSVM(XTrain, XTest, YTrain, YTest):\n",
        "  #Currently using successful values from A2, further adjustment with the processed dataset will be needed\n",
        "  svc = SVC(kernel = 'rbf', gamma = 0.1, C = 10)\n",
        "  svc.fit(XTrain, YTrain)\n",
        "\n",
        "  return accuracy_score(YTest, svc.predict(XTest))"
      ],
      "metadata": {
        "id": "A1pTsklKXPcL"
      },
      "execution_count": null,
      "outputs": []
    },
    {
      "cell_type": "code",
      "source": [
        "def linearSVM(XTrain, XTest, YTrain, YTest):\n",
        "  #Currently using successful values from A2, further adjustment with the processed dataset will be needed\n",
        "  svc = LinearSVC(C = 0.0225)\n",
        "\n",
        "  svc.fit(XTrain, YTrain)\n",
        "  accuracy_score(YTest, svc.predict(XTest))"
      ],
      "metadata": {
        "id": "BmNXFTYPgFBL"
      },
      "execution_count": null,
      "outputs": []
    },
    {
      "cell_type": "markdown",
      "source": [
        "## Driver"
      ],
      "metadata": {
        "id": "w8DfjYyNg0NZ"
      }
    },
    {
      "cell_type": "code",
      "source": [
        "#TODO: load the song and jam file from respective folders.. Maybes use zip() to create list of 2 pair tuples?\n",
        "song_path = r'/content/Datasets/audio_mono-mic'\n",
        "jam_path = r'/content/JamsFiles/04_rock1-90-solo.jams'  #Hard coded for now..\n",
        "songs = os.listdir(song_path)\n",
        "for song in songs:\n",
        "  songPath = os.path.join(song_path,song)\n",
        "  sampleRate,audio = wav.read(songPath)\n",
        "  #window size used in previous works with dataset where 0.2s\n",
        "  note_info = loadNoteData(jam_path)\n",
        "  XData,YData = songProcess(audio,note_info,sampleRate) #default window and hop. Can pass in a feature matrix and label array if we want to concate mulitple songs together\n",
        "\n",
        "#Split data\n",
        "XTrain, XTest, YTrain, YTest = train_test_split(XData, YData, test_size = 0.2)\n",
        "\n",
        "#Call ML functions..\n",
        "gaussianSVM(XTrain,YTrain)\n",
        "linearSVM(XTrain,YTrain)\n",
        "neuralNetwork(XTrain,YTrain)"
      ],
      "metadata": {
        "id": "CkZh6bSmKhw3"
      },
      "execution_count": null,
      "outputs": []
    },
    {
      "cell_type": "markdown",
      "source": [
        "## Testing Ground"
      ],
      "metadata": {
        "id": "MNV465-nwiWH"
      }
    },
    {
      "cell_type": "code",
      "source": [
        "f = open('/content/JamsFiles/04_Rock1-90-C_solo.jams', 'r')\n",
        "\n",
        "# data = f.read()\n",
        "data = jams.load(f)"
      ],
      "metadata": {
        "id": "YZJnOBjgghz7"
      },
      "execution_count": 13,
      "outputs": []
    },
    {
      "cell_type": "code",
      "source": [
        "print(\"\\ttime\\tduration\\tnotes\")\n",
        "pprint.pprint(loadNoteData(data))"
      ],
      "metadata": {
        "colab": {
          "base_uri": "https://localhost:8080/"
        },
        "id": "1gOys91nXrHn",
        "outputId": "bcb333e8-0b4d-4e9a-cfab-4b690efa9a2b"
      },
      "execution_count": 30,
      "outputs": [
        {
          "output_type": "stream",
          "name": "stdout",
          "text": [
            "\ttime\tduration\tnotes\n",
            "[[1.0279111111111092, 0.13351473922902812, 49.193803230707154],\n",
            " [1.304237641723354, 0.08707482993197146, 52.114584297971554],\n",
            " [1.3941242630385489, 0.23800453514738962, 53.06152785960328],\n",
            " [1.679385034013606, 0.13931972789115576, 56.14443073972567],\n",
            " [1.9566866213151926, 0.2902494331065739, 56.17702536590502],\n",
            " [2.3031265306122393, 0.09287981859410621, 53.08339188734166],\n",
            " [2.6073442176870714, 0.12190476190475863, 57.14782805032149],\n",
            " [2.9405641723355984, 0.12190476190475863, 60.91999064053075],\n",
            " [3.2740108843537357, 0.09868480725623385, 60.33037973363317],\n",
            " [3.5828317460317436, 0.5050340136054388, 61.522481510672925],\n",
            " [4.3526956916099735, 0.11029478458049624, 57.98474034208964],\n",
            " [4.642673015873008, 0.09287981859410621, 59.10588569730126],\n",
            " [4.9913351473922845, 0.7372335600907007, 61.11095551176679],\n",
            " [7.287298866213149, 0.2844444444444463, 63.46856030989381],\n",
            " [7.575303401360543, 0.7488435374149631, 61.16104776571266],\n",
            " [8.350292063492056, 0.4063492063492049, 61.07104616813202],\n",
            " [9.191947392290245, 0.34829931972789296, 58.130468792076336],\n",
            " [9.60516734693877, 0.19156462585034006, 61.04760266748758],\n",
            " [9.931629931972786, 0.12190476190475863, 60.96265834049261],\n",
            " [10.227457596371877, 0.09868480725623385, 61.10339381865027],\n",
            " [10.243285260770975, 0.17414965986394293, 66.07918933940174],\n",
            " [10.330405442176868, 0.19156462585034006, 63.071217373455866],\n",
            " [10.580178684807251, 1.7414965986394577, 61.029490998705384],\n",
            " [12.344010884353736, 0.2902494331065739, 63.02975379425347],\n",
            " [12.963375963718825, 0.18575963718820532, 60.04424018968106],\n",
            " [14.646709297052155, 0.3424943310657582, 61.19650871610332],\n",
            " [15.038750113378683, 0.13351473922902812, 59.19028862302168],\n",
            " [15.313580045351472, 0.30766439909297105, 56.15785998263231],\n",
            " [15.66337596371882, 0.2205895691609996, 54.13586668937021],\n",
            " [16.014963265306122, 0.1683446712018153, 52.15127906965688],\n",
            " [16.18541678004535, 0.29605442176870866, 53.074780089508636],\n",
            " [16.629521088435368, 0.3250793650793682, 56.19055404450025],\n",
            " [16.99135782312925, 0.12770975056689338, 53.11079410590745],\n",
            " [17.28090430839002, 0.09868480725623385, 57.17666297325452],\n",
            " [17.382423582766435, 0.2205895691609996, 58.16911443192291],\n",
            " [17.651017687074827, 0.1451247165532905, 61.14039932138798],\n",
            " [17.981561904761904, 0.2728344671201839, 61.188743639547795],\n",
            " [18.35450975056689, 0.12770975056689338, 58.15561157387588],\n",
            " [18.69546213151927, 0.2612244897959215, 63.997777531730954],\n",
            " [18.99822857142857, 0.22639455782312723, 64.96759007574646],\n",
            " [19.319611791383224, 0.25541950113378675, 66.01238105686467],\n",
            " [19.62607437641723, 0.1567346938775529, 66.9166629345382],\n",
            " [19.97033741496599, 0.1567346938775529, 68.01431148580971],\n",
            " [20.27534875283446, 0.1044897959183686, 64.0575556193237],\n",
            " [20.380473469387752, 0.2089795918367372, 64.9991923011718],\n",
            " [20.62541678004535, 0.35990929705215535, 64.00033837455311],\n",
            " [20.9475029478458, 1.851791383219954, 61.26363548055802],\n",
            " [22.99539410430838, 0.17414965986394293, 59.12818174753737],\n",
            " [23.340632199546484, 0.1683446712018153, 61.1600820812153],\n",
            " [23.61423764172335, 0.789478458049885, 64.06396923421042],\n",
            " [24.641357823129248, 0.1044897959183686, 66.00861073591436],\n",
            " [24.74723083900227, 0.17414965986394293, 64.11276359640748],\n",
            " [24.94453242630385, 0.18575963718820532, 66.032783635642],\n",
            " [25.15875011337868, 0.09287981859410621, 67.19803729257208],\n",
            " [25.253716099773236, 0.20317460317460245, 66.0198752191348],\n",
            " [25.27201541950113, 0.15092970521541815, 71.04217727643287],\n",
            " [25.46042811791383, 0.26702947845805625, 63.99238383352031],\n",
            " [25.492378231292513, 0.18575963718821242, 69.07219698109468],\n",
            " [25.622582312925168, 0.2844444444444463, 61.20000985682169],\n",
            " [25.961335147392283, 0.3250793650793611, 64.11762169173578],\n",
            " [26.308750113378686, 0.19156462585034717, 61.13975020157838],\n",
            " [26.61899954648525, 0.2844444444444463, 64.02247753801463],\n",
            " [26.76634648526076, 0.4179591836734744, 61.24985241703892],\n",
            " [27.668523356009068, 0.18575963718821242, 59.14715525330357],\n",
            " [27.98990657596371, 0.12190476190475863, 57.175316301112694],\n",
            " [28.12478185941044, 0.17414965986394293, 58.141876204530355],\n",
            " [28.341902040816315, 0.16253968253968765, 61.17543650693899],\n",
            " [28.65940770975056, 0.26702947845805625, 56.198766081636904],\n",
            " [28.977888435374147, 0.17995464852607768, 54.123299442837535],\n",
            " [29.307230839002266, 0.13351473922902812, 52.18108902213385],\n",
            " [29.441403174603174, 0.15092970521541815, 53.04476962482797],\n",
            " [29.641607256235822, 0.12770975056689338, 56.18843032645662],\n",
            " [29.949090249433105, 0.08707482993197857, 57.17358641767831],\n",
            " [30.291902040816318, 0.8243083900226793, 61.40869026182239]]\n"
          ]
        }
      ]
    },
    {
      "cell_type": "code",
      "source": [
        ""
      ],
      "metadata": {
        "id": "pFxIOfooXu4X"
      },
      "execution_count": null,
      "outputs": []
    }
  ]
}