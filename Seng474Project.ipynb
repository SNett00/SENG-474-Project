{
  "nbformat": 4,
  "nbformat_minor": 0,
  "metadata": {
    "colab": {
      "name": "Seng474Project.ipynb",
      "provenance": [],
      "collapsed_sections": []
    },
    "kernelspec": {
      "name": "python3",
      "display_name": "Python 3"
    },
    "language_info": {
      "name": "python"
    }
  },
  "cells": [
    {
      "cell_type": "code",
      "source": [
        "!pip3 install jams"
      ],
      "metadata": {
        "id": "Xd1XGIwwB7Lg",
        "outputId": "9966194a-23c8-4dba-e079-36769bc01159",
        "colab": {
          "base_uri": "https://localhost:8080/"
        }
      },
      "execution_count": null,
      "outputs": [
        {
          "output_type": "stream",
          "name": "stdout",
          "text": [
            "Collecting jams\n",
            "  Downloading jams-0.3.4.tar.gz (51 kB)\n",
            "\u001b[?25l\r\u001b[K     |██████▍                         | 10 kB 8.3 MB/s eta 0:00:01\r\u001b[K     |████████████▉                   | 20 kB 7.7 MB/s eta 0:00:01\r\u001b[K     |███████████████████▏            | 30 kB 4.8 MB/s eta 0:00:01\r\u001b[K     |█████████████████████████▋      | 40 kB 4.4 MB/s eta 0:00:01\r\u001b[K     |████████████████████████████████| 51 kB 2.6 MB/s eta 0:00:01\r\u001b[K     |████████████████████████████████| 51 kB 26 kB/s \n",
            "\u001b[?25hRequirement already satisfied: pandas in /usr/local/lib/python3.7/dist-packages (from jams) (1.3.5)\n",
            "Requirement already satisfied: sortedcontainers>=2.0.0 in /usr/local/lib/python3.7/dist-packages (from jams) (2.4.0)\n",
            "Requirement already satisfied: jsonschema>=3.0.0 in /usr/local/lib/python3.7/dist-packages (from jams) (4.3.3)\n",
            "Requirement already satisfied: numpy>=1.8.0 in /usr/local/lib/python3.7/dist-packages (from jams) (1.21.5)\n",
            "Requirement already satisfied: six in /usr/local/lib/python3.7/dist-packages (from jams) (1.15.0)\n",
            "Requirement already satisfied: decorator in /usr/local/lib/python3.7/dist-packages (from jams) (4.4.2)\n",
            "Collecting mir_eval>=0.5\n",
            "  Downloading mir_eval-0.7.tar.gz (90 kB)\n",
            "\u001b[K     |████████████████████████████████| 90 kB 2.7 MB/s \n",
            "\u001b[?25hRequirement already satisfied: pyrsistent!=0.17.0,!=0.17.1,!=0.17.2,>=0.14.0 in /usr/local/lib/python3.7/dist-packages (from jsonschema>=3.0.0->jams) (0.18.1)\n",
            "Requirement already satisfied: importlib-resources>=1.4.0 in /usr/local/lib/python3.7/dist-packages (from jsonschema>=3.0.0->jams) (5.4.0)\n",
            "Requirement already satisfied: typing-extensions in /usr/local/lib/python3.7/dist-packages (from jsonschema>=3.0.0->jams) (3.10.0.2)\n",
            "Requirement already satisfied: importlib-metadata in /usr/local/lib/python3.7/dist-packages (from jsonschema>=3.0.0->jams) (4.11.2)\n",
            "Requirement already satisfied: attrs>=17.4.0 in /usr/local/lib/python3.7/dist-packages (from jsonschema>=3.0.0->jams) (21.4.0)\n",
            "Requirement already satisfied: zipp>=3.1.0 in /usr/local/lib/python3.7/dist-packages (from importlib-resources>=1.4.0->jsonschema>=3.0.0->jams) (3.7.0)\n",
            "Requirement already satisfied: scipy>=1.0.0 in /usr/local/lib/python3.7/dist-packages (from mir_eval>=0.5->jams) (1.4.1)\n",
            "Requirement already satisfied: future in /usr/local/lib/python3.7/dist-packages (from mir_eval>=0.5->jams) (0.16.0)\n",
            "Requirement already satisfied: python-dateutil>=2.7.3 in /usr/local/lib/python3.7/dist-packages (from pandas->jams) (2.8.2)\n",
            "Requirement already satisfied: pytz>=2017.3 in /usr/local/lib/python3.7/dist-packages (from pandas->jams) (2018.9)\n",
            "Building wheels for collected packages: jams, mir-eval\n",
            "  Building wheel for jams (setup.py) ... \u001b[?25l\u001b[?25hdone\n",
            "  Created wheel for jams: filename=jams-0.3.4-py3-none-any.whl size=64922 sha256=59e1693b84c32527cc5d686f78653ec89a0231983262268f50d621339560b17e\n",
            "  Stored in directory: /root/.cache/pip/wheels/c9/aa/16/ce72bc4caa58dfab819e3f46b3542f2bf90a83009f4ea07a48\n",
            "  Building wheel for mir-eval (setup.py) ... \u001b[?25l\u001b[?25hdone\n",
            "  Created wheel for mir-eval: filename=mir_eval-0.7-py3-none-any.whl size=100721 sha256=17da2e91e8920b72c04a09946b16346d2262ca41b9ede440d37719c77f3a08d9\n",
            "  Stored in directory: /root/.cache/pip/wheels/18/5a/46/d2527ff1fd975e1a793375e6ed763bfe4d3ea396b7cdc470eb\n",
            "Successfully built jams mir-eval\n",
            "Installing collected packages: mir-eval, jams\n",
            "Successfully installed jams-0.3.4 mir-eval-0.7\n"
          ]
        }
      ]
    },
    {
      "cell_type": "code",
      "source": [
        "import numpy as np\n",
        "import os\n",
        "import pprint\n",
        "\n",
        "import matplotlib.pyplot as plt\n",
        "\n",
        "from sklearn.model_selection import train_test_split\n",
        "\n",
        "from sklearn.neural_network import MLPClassifier\n",
        "from sklearn.svm import LinearSVC\n",
        "from sklearn.svm import SVC\n",
        "from sklearn.metrics import accuracy_score\n",
        "\n",
        "import scipy.io.wavfile as wav\n",
        "import jams\n"
      ],
      "metadata": {
        "id": "pwshn6LfKd5X"
      },
      "execution_count": null,
      "outputs": []
    },
    {
      "cell_type": "markdown",
      "source": [
        "## Load data"
      ],
      "metadata": {
        "id": "1BPSrqfFWT3e"
      }
    },
    {
      "cell_type": "code",
      "source": [
        "#iterate through each song, one frame at a time based off hop and window size\n",
        "def songProcess(song,hopSize = 1024,winSize = 4096):\n",
        "  offsets = np.arange(0,len(audio),hopSize)\n",
        "  for (i,o) in enumerate(offsets):\n",
        "    frame = audio[o:o+winSize]\n",
        "    #Do stuff with each audio frame...\n",
        "    #eg Create labels from metadata\n",
        "\n",
        "\n",
        "\n",
        "  return"
      ],
      "metadata": {
        "id": "iBBc63iIocsB"
      },
      "execution_count": null,
      "outputs": []
    },
    {
      "cell_type": "code",
      "source": [
        "#load data\n",
        "path = r'/content/Datasets/audio_mono-mic'\n",
        "songs = os.listdir(path)\n",
        "for song in songs:\n",
        "  songPath = os.path.join(path,song)\n",
        "  sampleRate,audio = wav.read(songPath)\n",
        "  window = winSize=0.2*sampleRate #Frame size to be 0.2s of audio. Follow \"Automated Guitar Transcription with Deep Learning\" article. Might need to round to nearest power of 2?\n",
        "  result = songProcess(audio) #keep window at 4096 for now\n",
        "\n",
        "\n",
        "\n",
        "\n",
        "#Needs processed data\n",
        "XData = []\n",
        "YData = []\n",
        "\n",
        "XTrain, XTest, YTrain, YTest = train_test_split(XData, YData, test_size = 0.2)"
      ],
      "metadata": {
        "id": "CkZh6bSmKhw3",
        "outputId": "073d02a8-a785-4c1f-e16b-04ca11245818",
        "colab": {
          "base_uri": "https://localhost:8080/",
          "height": 236
        }
      },
      "execution_count": null,
      "outputs": [
        {
          "output_type": "error",
          "ename": "FileNotFoundError",
          "evalue": "ignored",
          "traceback": [
            "\u001b[0;31m---------------------------------------------------------------------------\u001b[0m",
            "\u001b[0;31mFileNotFoundError\u001b[0m                         Traceback (most recent call last)",
            "\u001b[0;32m<ipython-input-3-5bd4bd605233>\u001b[0m in \u001b[0;36m<module>\u001b[0;34m()\u001b[0m\n\u001b[1;32m      1\u001b[0m \u001b[0;31m#load data\u001b[0m\u001b[0;34m\u001b[0m\u001b[0;34m\u001b[0m\u001b[0;34m\u001b[0m\u001b[0m\n\u001b[1;32m      2\u001b[0m \u001b[0mpath\u001b[0m \u001b[0;34m=\u001b[0m \u001b[0;34mr'/content/Datasets/audio_mono-mic'\u001b[0m\u001b[0;34m\u001b[0m\u001b[0;34m\u001b[0m\u001b[0m\n\u001b[0;32m----> 3\u001b[0;31m \u001b[0msongs\u001b[0m \u001b[0;34m=\u001b[0m \u001b[0mos\u001b[0m\u001b[0;34m.\u001b[0m\u001b[0mlistdir\u001b[0m\u001b[0;34m(\u001b[0m\u001b[0mpath\u001b[0m\u001b[0;34m)\u001b[0m\u001b[0;34m\u001b[0m\u001b[0;34m\u001b[0m\u001b[0m\n\u001b[0m\u001b[1;32m      4\u001b[0m \u001b[0;32mfor\u001b[0m \u001b[0msong\u001b[0m \u001b[0;32min\u001b[0m \u001b[0msongs\u001b[0m\u001b[0;34m:\u001b[0m\u001b[0;34m\u001b[0m\u001b[0;34m\u001b[0m\u001b[0m\n\u001b[1;32m      5\u001b[0m   \u001b[0msongPath\u001b[0m \u001b[0;34m=\u001b[0m \u001b[0mos\u001b[0m\u001b[0;34m.\u001b[0m\u001b[0mpath\u001b[0m\u001b[0;34m.\u001b[0m\u001b[0mjoin\u001b[0m\u001b[0;34m(\u001b[0m\u001b[0mpath\u001b[0m\u001b[0;34m,\u001b[0m\u001b[0msong\u001b[0m\u001b[0;34m)\u001b[0m\u001b[0;34m\u001b[0m\u001b[0;34m\u001b[0m\u001b[0m\n",
            "\u001b[0;31mFileNotFoundError\u001b[0m: [Errno 2] No such file or directory: '/content/Datasets/audio_mono-mic'"
          ]
        }
      ]
    },
    {
      "cell_type": "markdown",
      "source": [
        "## Data classification using Neural Network"
      ],
      "metadata": {
        "id": "4IULUskjWZhR"
      }
    },
    {
      "cell_type": "code",
      "source": [
        "def neuralNetwork(XTrain, XTest, YTrain, YTest):\n",
        "  #Currently using successful values from A1, further adjustment with the processed dataset will be needed\n",
        "  MLPC = MLPClassifier(hidden_layer_sizes=(71, 21), max_iter=10000, alpha=0.0001, learning_rate_init=0.001, solver='adam')\n",
        "  MLPC.fit(XTrain, YTrain)\n",
        "\n",
        "  return accuracy_score(YTest, MLPC.predict(XTest))"
      ],
      "metadata": {
        "id": "zQ3YbkqhXLv9"
      },
      "execution_count": null,
      "outputs": []
    },
    {
      "cell_type": "markdown",
      "source": [
        ""
      ],
      "metadata": {
        "id": "NMmySWxcgwn9"
      }
    },
    {
      "cell_type": "markdown",
      "source": [
        "## Data classification using SVM"
      ],
      "metadata": {
        "id": "0ba6L3QgXODZ"
      }
    },
    {
      "cell_type": "code",
      "source": [
        "def gaussianSVM(XTrain, XTest, YTrain, YTest):\n",
        "  #Currently using successful values from A2, further adjustment with the processed dataset will be needed\n",
        "  svc = SVC(kernel = 'rbf', gamma = 0.1, C = 10)\n",
        "  svc.fit(XTrain, YTrain)\n",
        "\n",
        "  return accuracy_score(YTest, svc.predict(XTest))"
      ],
      "metadata": {
        "id": "A1pTsklKXPcL"
      },
      "execution_count": null,
      "outputs": []
    },
    {
      "cell_type": "code",
      "source": [
        "def linearSVM(XTrain, XTest, YTrain, YTest):\n",
        "  #Currently using successful values from A2, further adjustment with the processed dataset will be needed\n",
        "  svc = LinearSVC(C = 0.0225)\n",
        "\n",
        "  svc.fit(XTrain, YTrain)\n",
        "  accuracy_score(YTest, svc.predict(XTest))"
      ],
      "metadata": {
        "id": "BmNXFTYPgFBL"
      },
      "execution_count": null,
      "outputs": []
    },
    {
      "cell_type": "code",
      "source": [
        "f = open('/content/JamsFiles/04_Rock1-90-C_solo.jams', 'r')\n",
        "\n",
        "# data = f.read()\n",
        "data = jams.load(f)"
      ],
      "metadata": {
        "id": "YZJnOBjgghz7"
      },
      "execution_count": null,
      "outputs": []
    },
    {
      "cell_type": "code",
      "source": [
        "def timeKey(t):\n",
        "    return t[0]\n",
        "\n",
        "def loadData(data):\n",
        "    notes = []\n",
        "\n",
        "    for i in range (0, 6):\n",
        "        for j in data.annotations[\"note_midi\"][i][\"data\"]:\n",
        "            notes.append([j[0], j[2]])\n",
        "            \n",
        "    notes.sort(key=timeKey)\n",
        "\n",
        "    #pprint.pprint(notes)\n",
        "    return notes"
      ],
      "metadata": {
        "id": "Zn8-Wa-XEcV9"
      },
      "execution_count": null,
      "outputs": []
    },
    {
      "cell_type": "code",
      "source": [
        "print(\"\\ttime\\t\\tnotes\")\n",
        "pprint.pprint(loadData(data))"
      ],
      "metadata": {
        "colab": {
          "base_uri": "https://localhost:8080/"
        },
        "id": "1gOys91nXrHn",
        "outputId": "049fa540-2f86-4bfd-8305-bd666af292a6"
      },
      "execution_count": null,
      "outputs": [
        {
          "output_type": "stream",
          "name": "stdout",
          "text": [
            "\ttime\t\tnotes\n",
            "[[1.0279111111111092, 49.193803230707154],\n",
            " [1.304237641723354, 52.114584297971554],\n",
            " [1.3941242630385489, 53.06152785960328],\n",
            " [1.679385034013606, 56.14443073972567],\n",
            " [1.9566866213151926, 56.17702536590502],\n",
            " [2.3031265306122393, 53.08339188734166],\n",
            " [2.6073442176870714, 57.14782805032149],\n",
            " [2.9405641723355984, 60.91999064053075],\n",
            " [3.2740108843537357, 60.33037973363317],\n",
            " [3.5828317460317436, 61.522481510672925],\n",
            " [4.3526956916099735, 57.98474034208964],\n",
            " [4.642673015873008, 59.10588569730126],\n",
            " [4.9913351473922845, 61.11095551176679],\n",
            " [7.287298866213149, 63.46856030989381],\n",
            " [7.575303401360543, 61.16104776571266],\n",
            " [8.350292063492056, 61.07104616813202],\n",
            " [9.191947392290245, 58.130468792076336],\n",
            " [9.60516734693877, 61.04760266748758],\n",
            " [9.931629931972786, 60.96265834049261],\n",
            " [10.227457596371877, 61.10339381865027],\n",
            " [10.243285260770975, 66.07918933940174],\n",
            " [10.330405442176868, 63.071217373455866],\n",
            " [10.580178684807251, 61.029490998705384],\n",
            " [12.344010884353736, 63.02975379425347],\n",
            " [12.963375963718825, 60.04424018968106],\n",
            " [14.646709297052155, 61.19650871610332],\n",
            " [15.038750113378683, 59.19028862302168],\n",
            " [15.313580045351472, 56.15785998263231],\n",
            " [15.66337596371882, 54.13586668937021],\n",
            " [16.014963265306122, 52.15127906965688],\n",
            " [16.18541678004535, 53.074780089508636],\n",
            " [16.629521088435368, 56.19055404450025],\n",
            " [16.99135782312925, 53.11079410590745],\n",
            " [17.28090430839002, 57.17666297325452],\n",
            " [17.382423582766435, 58.16911443192291],\n",
            " [17.651017687074827, 61.14039932138798],\n",
            " [17.981561904761904, 61.188743639547795],\n",
            " [18.35450975056689, 58.15561157387588],\n",
            " [18.69546213151927, 63.997777531730954],\n",
            " [18.99822857142857, 64.96759007574646],\n",
            " [19.319611791383224, 66.01238105686467],\n",
            " [19.62607437641723, 66.9166629345382],\n",
            " [19.97033741496599, 68.01431148580971],\n",
            " [20.27534875283446, 64.0575556193237],\n",
            " [20.380473469387752, 64.9991923011718],\n",
            " [20.62541678004535, 64.00033837455311],\n",
            " [20.9475029478458, 61.26363548055802],\n",
            " [22.99539410430838, 59.12818174753737],\n",
            " [23.340632199546484, 61.1600820812153],\n",
            " [23.61423764172335, 64.06396923421042],\n",
            " [24.641357823129248, 66.00861073591436],\n",
            " [24.74723083900227, 64.11276359640748],\n",
            " [24.94453242630385, 66.032783635642],\n",
            " [25.15875011337868, 67.19803729257208],\n",
            " [25.253716099773236, 66.0198752191348],\n",
            " [25.27201541950113, 71.04217727643287],\n",
            " [25.46042811791383, 63.99238383352031],\n",
            " [25.492378231292513, 69.07219698109468],\n",
            " [25.622582312925168, 61.20000985682169],\n",
            " [25.961335147392283, 64.11762169173578],\n",
            " [26.308750113378686, 61.13975020157838],\n",
            " [26.61899954648525, 64.02247753801463],\n",
            " [26.76634648526076, 61.24985241703892],\n",
            " [27.668523356009068, 59.14715525330357],\n",
            " [27.98990657596371, 57.175316301112694],\n",
            " [28.12478185941044, 58.141876204530355],\n",
            " [28.341902040816315, 61.17543650693899],\n",
            " [28.65940770975056, 56.198766081636904],\n",
            " [28.977888435374147, 54.123299442837535],\n",
            " [29.307230839002266, 52.18108902213385],\n",
            " [29.441403174603174, 53.04476962482797],\n",
            " [29.641607256235822, 56.18843032645662],\n",
            " [29.949090249433105, 57.17358641767831],\n",
            " [30.291902040816318, 61.40869026182239]]\n"
          ]
        }
      ]
    },
    {
      "cell_type": "code",
      "source": [
        ""
      ],
      "metadata": {
        "id": "pFxIOfooXu4X"
      },
      "execution_count": null,
      "outputs": []
    }
  ]
}