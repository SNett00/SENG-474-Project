{
 "cells": [
  {
   "cell_type": "code",
   "execution_count": null,
   "id": "d23764a7-0946-4156-bf6c-4683128ed364",
   "metadata": {},
   "outputs": [
    {
     "name": "stdout",
     "output_type": "stream",
     "text": [
      "\u001b[33mDEPRECATION: Configuring installation scheme with distutils config files is deprecated and will no longer work in the near future. If you are using a Homebrew or Linuxbrew Python, please see discussion at https://github.com/Homebrew/homebrew-core/issues/76621\u001b[0m\u001b[33m\n",
      "\u001b[0mRequirement already satisfied: jams in /usr/local/lib/python3.9/site-packages (0.3.4)\n",
      "Requirement already satisfied: pandas in /usr/local/lib/python3.9/site-packages (from jams) (1.3.0)\n",
      "Requirement already satisfied: mir-eval>=0.5 in /usr/local/lib/python3.9/site-packages (from jams) (0.7)\n",
      "Requirement already satisfied: jsonschema>=3.0.0 in /usr/local/lib/python3.9/site-packages (from jams) (4.4.0)\n",
      "Requirement already satisfied: decorator in /usr/local/lib/python3.9/site-packages (from jams) (5.1.0)\n",
      "Requirement already satisfied: six in /usr/local/lib/python3.9/site-packages (from jams) (1.16.0)\n",
      "Requirement already satisfied: sortedcontainers>=2.0.0 in /usr/local/lib/python3.9/site-packages (from jams) (2.4.0)\n",
      "Requirement already satisfied: numpy>=1.8.0 in /usr/local/lib/python3.9/site-packages (from jams) (1.21.0)\n",
      "Requirement already satisfied: pyrsistent!=0.17.0,!=0.17.1,!=0.17.2,>=0.14.0 in /usr/local/lib/python3.9/site-packages (from jsonschema>=3.0.0->jams) (0.18.1)\n",
      "Requirement already satisfied: attrs>=17.4.0 in /usr/local/lib/python3.9/site-packages (from jsonschema>=3.0.0->jams) (21.4.0)\n",
      "Requirement already satisfied: scipy>=1.0.0 in /usr/local/lib/python3.9/site-packages (from mir-eval>=0.5->jams) (1.7.2)\n",
      "Requirement already satisfied: future in /usr/local/lib/python3.9/site-packages (from mir-eval>=0.5->jams) (0.18.2)\n",
      "Requirement already satisfied: python-dateutil>=2.7.3 in /usr/local/lib/python3.9/site-packages (from pandas->jams) (2.8.1)\n",
      "Requirement already satisfied: pytz>=2017.3 in /usr/local/lib/python3.9/site-packages (from pandas->jams) (2021.1)\n",
      "\u001b[33mDEPRECATION: Configuring installation scheme with distutils config files is deprecated and will no longer work in the near future. If you are using a Homebrew or Linuxbrew Python, please see discussion at https://github.com/Homebrew/homebrew-core/issues/76621\u001b[0m\u001b[33m\n",
      "\u001b[0m\u001b[33mDEPRECATION: Configuring installation scheme with distutils config files is deprecated and will no longer work in the near future. If you are using a Homebrew or Linuxbrew Python, please see discussion at https://github.com/Homebrew/homebrew-core/issues/76621\u001b[0m\u001b[33m\n",
      "\u001b[0mRequirement already satisfied: matplotlib in /usr/local/lib/python3.9/site-packages (3.4.3)\n",
      "Requirement already satisfied: numpy>=1.16 in /usr/local/lib/python3.9/site-packages (from matplotlib) (1.21.0)\n",
      "Requirement already satisfied: cycler>=0.10 in /usr/local/lib/python3.9/site-packages (from matplotlib) (0.11.0)\n",
      "Requirement already satisfied: pyparsing>=2.2.1 in /usr/local/lib/python3.9/site-packages (from matplotlib) (3.0.7)\n",
      "Requirement already satisfied: python-dateutil>=2.7 in /usr/local/lib/python3.9/site-packages (from matplotlib) (2.8.1)\n",
      "Requirement already satisfied: pillow>=6.2.0 in /usr/local/lib/python3.9/site-packages (from matplotlib) (8.3.1)\n",
      "Requirement already satisfied: kiwisolver>=1.0.1 in /usr/local/lib/python3.9/site-packages (from matplotlib) (1.3.2)\n",
      "Requirement already satisfied: six>=1.5 in /usr/local/lib/python3.9/site-packages (from python-dateutil>=2.7->matplotlib) (1.16.0)\n",
      "\u001b[33mDEPRECATION: Configuring installation scheme with distutils config files is deprecated and will no longer work in the near future. If you are using a Homebrew or Linuxbrew Python, please see discussion at https://github.com/Homebrew/homebrew-core/issues/76621\u001b[0m\u001b[33m\n",
      "\u001b[0m\u001b[33mDEPRECATION: Configuring installation scheme with distutils config files is deprecated and will no longer work in the near future. If you are using a Homebrew or Linuxbrew Python, please see discussion at https://github.com/Homebrew/homebrew-core/issues/76621\u001b[0m\u001b[33m\n",
      "\u001b[0mRequirement already satisfied: audiolazy in /usr/local/lib/python3.9/site-packages (0.6)\n",
      "\u001b[33mDEPRECATION: Configuring installation scheme with distutils config files is deprecated and will no longer work in the near future. If you are using a Homebrew or Linuxbrew Python, please see discussion at https://github.com/Homebrew/homebrew-core/issues/76621\u001b[0m\u001b[33m\n",
      "\u001b[0m\u001b[33mDEPRECATION: Configuring installation scheme with distutils config files is deprecated and will no longer work in the near future. If you are using a Homebrew or Linuxbrew Python, please see discussion at https://github.com/Homebrew/homebrew-core/issues/76621\u001b[0m\u001b[33m\n",
      "\u001b[0mRequirement already satisfied: librosa in /usr/local/lib/python3.9/site-packages (0.9.1)\n",
      "Requirement already satisfied: numpy>=1.17.0 in /usr/local/lib/python3.9/site-packages (from librosa) (1.21.0)\n",
      "Requirement already satisfied: joblib>=0.14 in /usr/local/lib/python3.9/site-packages (from librosa) (1.1.0)\n",
      "Requirement already satisfied: soundfile>=0.10.2 in /usr/local/lib/python3.9/site-packages (from librosa) (0.10.3.post1)\n",
      "Requirement already satisfied: packaging>=20.0 in /usr/local/lib/python3.9/site-packages (from librosa) (21.3)\n",
      "Requirement already satisfied: numba>=0.45.1 in /usr/local/lib/python3.9/site-packages (from librosa) (0.55.1)\n",
      "Requirement already satisfied: audioread>=2.1.5 in /usr/local/lib/python3.9/site-packages (from librosa) (2.1.9)\n",
      "Requirement already satisfied: scikit-learn>=0.19.1 in /usr/local/lib/python3.9/site-packages (from librosa) (1.0.1)\n",
      "Requirement already satisfied: scipy>=1.2.0 in /usr/local/lib/python3.9/site-packages (from librosa) (1.7.2)\n",
      "Requirement already satisfied: pooch>=1.0 in /usr/local/lib/python3.9/site-packages (from librosa) (1.6.0)\n",
      "Requirement already satisfied: decorator>=4.0.10 in /usr/local/lib/python3.9/site-packages (from librosa) (5.1.0)\n",
      "Requirement already satisfied: resampy>=0.2.2 in /usr/local/lib/python3.9/site-packages (from librosa) (0.2.2)\n",
      "Requirement already satisfied: llvmlite<0.39,>=0.38.0rc1 in /usr/local/lib/python3.9/site-packages (from numba>=0.45.1->librosa) (0.38.0)\n",
      "Requirement already satisfied: setuptools in /usr/local/lib/python3.9/site-packages (from numba>=0.45.1->librosa) (60.10.0)\n",
      "Requirement already satisfied: pyparsing!=3.0.5,>=2.0.2 in /usr/local/lib/python3.9/site-packages (from packaging>=20.0->librosa) (3.0.7)\n",
      "Requirement already satisfied: requests>=2.19.0 in /usr/local/lib/python3.9/site-packages (from pooch>=1.0->librosa) (2.26.0)\n",
      "Requirement already satisfied: appdirs>=1.3.0 in /usr/local/lib/python3.9/site-packages (from pooch>=1.0->librosa) (1.4.4)\n",
      "Requirement already satisfied: six>=1.3 in /usr/local/lib/python3.9/site-packages (from resampy>=0.2.2->librosa) (1.16.0)\n",
      "Requirement already satisfied: threadpoolctl>=2.0.0 in /usr/local/lib/python3.9/site-packages (from scikit-learn>=0.19.1->librosa) (3.0.0)\n",
      "Requirement already satisfied: cffi>=1.0 in /usr/local/lib/python3.9/site-packages (from soundfile>=0.10.2->librosa) (1.15.0)\n",
      "Requirement already satisfied: pycparser in /usr/local/lib/python3.9/site-packages (from cffi>=1.0->soundfile>=0.10.2->librosa) (2.21)\n",
      "Requirement already satisfied: certifi>=2017.4.17 in /usr/local/lib/python3.9/site-packages (from requests>=2.19.0->pooch>=1.0->librosa) (2021.5.30)\n",
      "Requirement already satisfied: idna<4,>=2.5 in /usr/local/lib/python3.9/site-packages (from requests>=2.19.0->pooch>=1.0->librosa) (3.2)\n",
      "Requirement already satisfied: urllib3<1.27,>=1.21.1 in /usr/local/lib/python3.9/site-packages (from requests>=2.19.0->pooch>=1.0->librosa) (1.26.6)\n",
      "Requirement already satisfied: charset-normalizer~=2.0.0 in /usr/local/lib/python3.9/site-packages (from requests>=2.19.0->pooch>=1.0->librosa) (2.0.2)\n",
      "\u001b[33mDEPRECATION: Configuring installation scheme with distutils config files is deprecated and will no longer work in the near future. If you are using a Homebrew or Linuxbrew Python, please see discussion at https://github.com/Homebrew/homebrew-core/issues/76621\u001b[0m\u001b[33m\n",
      "\u001b[0m\u001b[33mDEPRECATION: Configuring installation scheme with distutils config files is deprecated and will no longer work in the near future. If you are using a Homebrew or Linuxbrew Python, please see discussion at https://github.com/Homebrew/homebrew-core/issues/76621\u001b[0m\u001b[33m\n",
      "\u001b[0mRequirement already satisfied: music21 in /usr/local/lib/python3.9/site-packages (7.3.1)\n",
      "Requirement already satisfied: jsonpickle in /usr/local/lib/python3.9/site-packages (from music21) (2.1.0)\n",
      "Requirement already satisfied: webcolors>=1.5 in /usr/local/lib/python3.9/site-packages (from music21) (1.11.1)\n",
      "Requirement already satisfied: more-itertools in /usr/local/lib/python3.9/site-packages (from music21) (8.12.0)\n",
      "Requirement already satisfied: matplotlib in /usr/local/lib/python3.9/site-packages (from music21) (3.4.3)\n",
      "Requirement already satisfied: numpy in /usr/local/lib/python3.9/site-packages (from music21) (1.21.0)\n",
      "Requirement already satisfied: joblib in /usr/local/lib/python3.9/site-packages (from music21) (1.1.0)\n",
      "Requirement already satisfied: chardet in /usr/local/lib/python3.9/site-packages (from music21) (4.0.0)\n",
      "Requirement already satisfied: cycler>=0.10 in /usr/local/lib/python3.9/site-packages (from matplotlib->music21) (0.11.0)\n",
      "Requirement already satisfied: python-dateutil>=2.7 in /usr/local/lib/python3.9/site-packages (from matplotlib->music21) (2.8.1)\n",
      "Requirement already satisfied: pillow>=6.2.0 in /usr/local/lib/python3.9/site-packages (from matplotlib->music21) (8.3.1)\n",
      "Requirement already satisfied: kiwisolver>=1.0.1 in /usr/local/lib/python3.9/site-packages (from matplotlib->music21) (1.3.2)\n",
      "Requirement already satisfied: pyparsing>=2.2.1 in /usr/local/lib/python3.9/site-packages (from matplotlib->music21) (3.0.7)\n",
      "Requirement already satisfied: six>=1.5 in /usr/local/lib/python3.9/site-packages (from python-dateutil>=2.7->matplotlib->music21) (1.16.0)\n",
      "\u001b[33mDEPRECATION: Configuring installation scheme with distutils config files is deprecated and will no longer work in the near future. If you are using a Homebrew or Linuxbrew Python, please see discussion at https://github.com/Homebrew/homebrew-core/issues/76621\u001b[0m\u001b[33m\n",
      "\u001b[0m\u001b[33mDEPRECATION: Configuring installation scheme with distutils config files is deprecated and will no longer work in the near future. If you are using a Homebrew or Linuxbrew Python, please see discussion at https://github.com/Homebrew/homebrew-core/issues/76621\u001b[0m\u001b[33m\n",
      "\u001b[0mRequirement already satisfied: MIDIUtil in /usr/local/lib/python3.9/site-packages (1.2.1)\n",
      "\u001b[33mDEPRECATION: Configuring installation scheme with distutils config files is deprecated and will no longer work in the near future. If you are using a Homebrew or Linuxbrew Python, please see discussion at https://github.com/Homebrew/homebrew-core/issues/76621\u001b[0m\u001b[33m\n",
      "\u001b[0m"
     ]
    }
   ],
   "source": [
    "!pip3 install jams\n",
    "!pip install matplotlib\n",
    "!pip install audiolazy\n",
    "!pip install librosa\n",
    "!pip3 install music21\n",
    "!pip3 install MIDIUtil"
   ]
  },
  {
   "cell_type": "code",
   "execution_count": null,
   "id": "1c32be42-0753-4741-a676-917ebcf1bfeb",
   "metadata": {},
   "outputs": [],
   "source": [
    "import numpy as np\n",
    "import os\n",
    "import pprint\n",
    "\n",
    "import matplotlib.pyplot as plt\n",
    "\n",
    "from sklearn.model_selection import train_test_split\n",
    "\n",
    "from sklearn.neural_network import MLPClassifier\n",
    "from sklearn.svm import LinearSVC\n",
    "from sklearn.svm import SVC\n",
    "from sklearn import preprocessing\n",
    "from sklearn.model_selection import KFold\n",
    "from sklearn.metrics import accuracy_score\n",
    "from sklearn.manifold import TSNE\n",
    "\n",
    "import scipy.io.wavfile as wav\n",
    "import jams\n",
    "\n",
    "import librosa\n",
    "import audiolazy as al\n",
    "\n",
    "import music21\n",
    "from midiutil import MIDIFile\n"
   ]
  },
  {
   "cell_type": "markdown",
   "id": "65fd532e-c716-45cf-adf2-349dd78e8dcc",
   "metadata": {},
   "source": [
    "## Processing Data Input (Guitar Dataset)"
   ]
  },
  {
   "cell_type": "code",
   "execution_count": null,
   "id": "cd4f09b0-d66b-4d05-852c-05e6a28be44a",
   "metadata": {},
   "outputs": [],
   "source": [
    "def timeKey(t):\n",
    "    return t[0]\n",
    "\n",
    "def loadNoteData(f):\n",
    "    #f = open('/content/JamsFiles/04_Rock1-90-C_solo.jams', 'r')\n",
    "\n",
    "   # data = f.read()\n",
    "    data = jams.load(f)\n",
    "    notes = []\n",
    "\n",
    "    for i in range (0, 6):\n",
    "        for j in data.annotations[\"note_midi\"][i][\"data\"]:\n",
    "            notes.append([j[0],j[1],j[2]])\n",
    "            \n",
    "    notes.sort(key=timeKey)\n",
    "\n",
    "    #pprint.pprint(notes)\n",
    "    return notes"
   ]
  },
  {
   "cell_type": "code",
   "execution_count": null,
   "id": "aeaa92e3-b752-4116-afc1-ecac01404cc9",
   "metadata": {},
   "outputs": [],
   "source": [
    "def load_audio_file(song_path, scale = False):\n",
    "    srate, source_audio = wav.read(song_path)\n",
    "    if scale:\n",
    "        source_audio = source_audio.astype(np.float32) / max(max(source_audio),abs(min(source_audio)))\n",
    "\n",
    "    return source_audio, srate"
   ]
  },
  {
   "cell_type": "code",
   "execution_count": null,
   "id": "4ca4afee-256c-4ff9-b55f-ea68b30e9adc",
   "metadata": {},
   "outputs": [],
   "source": [
    "#function to process the raw audio data.\n",
    "def x_data_process(raw_data):\n",
    "    scaler = preprocessing.MinMaxScaler((-1,1))\n",
    "    scaled = scaler.fit_transform(raw_data)\n",
    "    return scaled"
   ]
  },
  {
   "cell_type": "code",
   "execution_count": null,
   "id": "8917c650-eb1d-41ac-b273-5fd799a8eac1",
   "metadata": {},
   "outputs": [],
   "source": [
    "#TODO: Change this so it pads to match the shape of frame. not just the length\n",
    "def pad(proper_size, frame):\n",
    "    padsize = winSize-len(frame)\n",
    "    temp = None\n",
    "    if len(frame.shape) > 1:\n",
    "        temp = np.zeros((frame.shape[0],padsize))\n",
    "    else:\n",
    "        temp = np.zeros(padsize)\n",
    "\n",
    "    return np.concatenate((frame,temp))"
   ]
  },
  {
   "cell_type": "code",
   "execution_count": null,
   "id": "dbcb0d9e-2413-4e5f-8695-7a41674c341a",
   "metadata": {},
   "outputs": [],
   "source": [
    "def songProcess(song_audio,notes,sr,hopSize = 1024,winSize = 4096,features = [],labels = []):\n",
    "\n",
    "  testCount = 0\n",
    "\n",
    "  offsets = np.arange(0,len(song_audio),hopSize)\n",
    "  for (i,o) in enumerate(offsets):\n",
    "    testCount += 1\n",
    "\n",
    "    original_frame_size = 0\n",
    "\n",
    "    frame = audio[o:o+winSize]\n",
    "\n",
    "    if original_frame_size == 0:\n",
    "      original_frame_size = frame.shape\n",
    "\n",
    "    note = 0\n",
    "    tiebreak = []\n",
    "\n",
    "    #Create labels from jams file data -- if multiple notes in frame, take longest duration\n",
    "    for j,(time,duration,value) in enumerate(notes):\n",
    "      note_start = time*sr\n",
    "      note_end = (time+duration)*sr\n",
    "      if o <= note_start < o+winSize:                 #note starts in frame\n",
    "        tiebreak.append(j)\n",
    "      elif o <= note_end < o+winSize:                  #note ends in frame\n",
    "        tiebreak.append(j)\n",
    "      elif note_start < o and o+winSize <= note_end: #note continuous thru frame\n",
    "        note = value\n",
    "\n",
    "    #if multiple notes in frame, choose one that played the longest in frame\n",
    "    if len(tiebreak) > 0:\n",
    "      if len(tiebreak) == 1:\n",
    "        note = notes[tiebreak[0]][2]\n",
    "      else:\n",
    "        max_dur = 0\n",
    "        max_note = 0\n",
    "        for index in tiebreak:\n",
    "          note_start = notes[index][0] * sr\n",
    "          note_duration = notes[index][1] * sr\n",
    "          frame_dur = 0\n",
    "          if note_start < o:\n",
    "            frame_dur = note_duration+note_start-o\n",
    "          elif note_start+note_duration > o+winSize:\n",
    "            frame_dur = o+winSize - note_start\n",
    "          else:\n",
    "            frame_dur = note_duration\n",
    "\n",
    "          if frame_dur > max_dur:\n",
    "            max_dur = frame_dur\n",
    "            max_note = notes[index][2]\n",
    "        note = max_note\n",
    "\n",
    "\n",
    "    #pad feature matrix\n",
    "    if len(frame) < winSize:\n",
    "      frame = pad(winSize, frame)\n",
    "\n",
    "    #append to feature and labels\n",
    "    features.append(frame)\n",
    "    labels.append(round(note))  #quantize to the nearest midi value\n",
    "\n",
    "  return features,labels,testCount"
   ]
  },
  {
   "cell_type": "code",
   "execution_count": null,
   "id": "f0fc0a8c-a91f-4131-bde1-aa7c11c39e03",
   "metadata": {},
   "outputs": [],
   "source": [
    "def tsneFit(X, comps):\n",
    "    tsne = TSNE(comps, learning_rate='auto', init='pca')\n",
    "    result = tsne.fit_transform(X)\n",
    "    return result"
   ]
  },
  {
   "cell_type": "markdown",
   "id": "e624214b-1486-4939-ad1d-a3a0edb4f584",
   "metadata": {},
   "source": [
    "## Predict Function"
   ]
  },
  {
   "cell_type": "code",
   "execution_count": null,
   "id": "a0dbd30e-0ddf-440f-b43f-1c8cd354da90",
   "metadata": {},
   "outputs": [],
   "source": [
    "\"\"\"Taking the song path, trained model, and same hopSize and winSize as used in training,\n",
    "Converts song into predicted midi information\"\"\"\n",
    "def predict(song_path, model, hopSize, winSize):\n",
    "    \n",
    "    audio,sr = load_audio_file(song_path, scale=False)\n",
    "    offsets = np.arange(0,len(audio),hopSize)\n",
    "    x_data = []\n",
    "    for (i,o) in enumerate(offsets):\n",
    "        frame = audio[o:o+winSize]\n",
    "        #pad\n",
    "        if len(frame) < winSize:\n",
    "            frame = pad(winSize, frame)\n",
    "\n",
    "        #append to features\n",
    "        x_data.append(frame)\n",
    "\n",
    "    #preprocess data\n",
    "    x_data = x_data_process(x_data)\n",
    "\n",
    "    #column 0 is note, column 1 is time\n",
    "    midi_info = np.zeros((len(offsets),2))\n",
    "    raw_results = model.predict(x_data)\n",
    "\n",
    "    for i,frame_note in enumerate(raw_results):\n",
    "        midi_info[i][0] = frame_note\n",
    "        midi_info[i][1] = hopSize*i/sr\n",
    "\n",
    "        #TODO: create proper midi file from this note / time information\n",
    "          #Also determine method to covert midi into sheet music\n",
    "\n",
    "    return midi_info"
   ]
  },
  {
   "cell_type": "markdown",
   "id": "1bc06683",
   "metadata": {},
   "source": [
    "### Coverting predicted MIDI info into MIDI file and Note Sheet"
   ]
  },
  {
   "cell_type": "code",
   "execution_count": null,
   "id": "aaac2c7b",
   "metadata": {},
   "outputs": [],
   "source": [
    "def to_midi_sheet(midi_info,outfile):\n",
    "    degrees = []\n",
    "\n",
    "    for note, time in midi_info:\n",
    "        if note != 0.0:\n",
    "            degrees.append(int(note))\n",
    "\n",
    "    track    = 0\n",
    "    channel  = 0\n",
    "    time     = 0    # In beats\n",
    "    duration = 1    # In beats\n",
    "    tempo    = 120   # In BPM\n",
    "    volume   = 100  # 0-127, as per the MIDI standard\n",
    "\n",
    "    MyMIDI = MIDIFile(1)  # One track\n",
    "    MyMIDI.addTempo(track, time, tempo)\n",
    "\n",
    "    for i, pitch in enumerate(degrees):\n",
    "        MyMIDI.addNote(track, channel, pitch, time + i, duration, volume)\n",
    "\n",
    "    with open(outfile + '.mid', \"wb\") as output_file:\n",
    "        MyMIDI.writeFile(output_file)\n",
    "\n",
    "    parsed = music21.converter.parse(outfile + '.mid')\n",
    "    parsed.show('musicxml.png')"
   ]
  },
  {
   "cell_type": "markdown",
   "id": "3c11f6e2-4fff-4187-979b-11888e69f2b0",
   "metadata": {},
   "source": [
    "## Driver to load data and # of songs"
   ]
  },
  {
   "cell_type": "code",
   "execution_count": null,
   "id": "9e819390-a93f-4ea5-8359-fc0f5495aa13",
   "metadata": {},
   "outputs": [],
   "source": [
    "# LOAD SONG AND JAM FILES\n",
    "song_path = r'DataSets/audio_mono-mic'\n",
    "jam_path = r'DataSets/annotation'\n",
    "MODE = 'solo'\n",
    "inputFiles = list(zip([x for x in os.listdir(song_path) if MODE in x],[x for x in os.listdir(jam_path) if MODE in x]))"
   ]
  },
  {
   "cell_type": "code",
   "execution_count": null,
   "id": "3a48055c-1f47-4bfb-ad5d-9f108088a0a4",
   "metadata": {},
   "outputs": [],
   "source": [
    "##Set up features and labels for ML\n",
    "numSongs = 15\n",
    "counter = numSongs\n",
    "\n",
    "notecounter = 0\n",
    "\n",
    "hopSize = 1024\n",
    "winSize = 1024\n",
    "\n",
    "XData,YData = [],[]\n",
    "XData_pre,YData_pre = [],[]\n",
    "for song_file,jam_file in inputFiles:\n",
    "    song = os.path.join(song_path,song_file)\n",
    "    jam = os.path.join(jam_path,jam_file)\n",
    "    \n",
    "    audio,sr = load_audio_file(song, scale=False)\n",
    "    note_info = loadNoteData(jam)\n",
    "\n",
    "    # Can pass in a feature matrix and label array if we want to concat multiple songs together\n",
    "    XData,YData,notecount = songProcess(audio,note_info,sr, hopSize, winSize)\n",
    "\n",
    "    #Prescaled Xdata for experiement\n",
    "    audio_prescaled,sr = load_audio_file(song,scale=True)\n",
    "    XData_pre,YData_pre,notecount = songProcess(audio_prescaled,note_info,sr,hopSize,winSize)\n",
    "\n",
    "    notecounter += notecount\n",
    "    counter -= 1\n",
    "    if counter == 0:\n",
    "        break"
   ]
  },
  {
   "cell_type": "markdown",
   "id": "e1127834-4368-4e8b-8047-985f7c98d6db",
   "metadata": {},
   "source": [
    "## Neural Network Model Testing"
   ]
  },
  {
   "cell_type": "code",
   "execution_count": null,
   "id": "e5024459-86dc-4d95-bdc6-8d1d0ebc8e55",
   "metadata": {},
   "outputs": [],
   "source": [
    "def neural_network(XTrain, XTest, YTrain, YTest, hidden_size, max_iter, solver, activation):\n",
    "    #Currently, using successful values from A1, further adjustment with the processed dataset will be needed\n",
    "    MLPC = MLPClassifier(hidden_layer_sizes=hidden_size, max_iter=max_iter, alpha=0.0001, \n",
    "                         learning_rate_init=0.001, solver=solver, activation=activation)\n",
    "    MLPC.fit(XTrain, YTrain)\n",
    "\n",
    "    return accuracy_score(YTest, MLPC.predict(XTest)), MLPC"
   ]
  },
  {
   "cell_type": "code",
   "execution_count": null,
   "id": "de4822a9-b315-4b3c-a4e8-f21a730965f9",
   "metadata": {},
   "outputs": [
    {
     "name": "stdout",
     "output_type": "stream",
     "text": [
      "NN Model Test Accuracy: 0.28050573360776243\n"
     ]
    }
   ],
   "source": [
    "# NN Using No Scaling\n",
    "\n",
    "XTrain,XTest,YTrain,YTest = train_test_split(XData,YData,test_size=0.2)\n",
    "hidden_size=(60,120)\n",
    "max_iter=100000\n",
    "solver='adam'\n",
    "activation='tanh'\n",
    "accuracy, trained_model = neural_network(XTrain,XTest,YTrain,YTest,hidden_size, max_iter, solver, activation)\n",
    "print(\"NN Model Test Accuracy:\",accuracy)\n",
    "\n",
    "song = 'DataSets/audio_mono-mic/00_BN3-119-G_solo_mic.wav'\n",
    "\n",
    "midi_info = predict(song,trained_model,hopSize,winSize)\n",
    "to_midi_sheet(midi_info,outfile=\"unscaled_nn_sheet_music\")"
   ]
  },
  {
   "cell_type": "code",
   "execution_count": null,
   "id": "f47c1b20-f4cd-4536-9eab-31c6cae9d48e",
   "metadata": {},
   "outputs": [
    {
     "name": "stdout",
     "output_type": "stream",
     "text": [
      "NN Model Test Accuracy: 0.5164657453690091\n"
     ]
    }
   ],
   "source": [
    "# NN Using Post Scaling\n",
    "XData_postscaled = x_data_process(XData)\n",
    "\n",
    "XTrain,XTest,YTrain,YTest = train_test_split(XData_postscaled,YData,test_size=0.2)\n",
    "hidden_size=(60,120)\n",
    "max_iter=100000\n",
    "solver='adam'\n",
    "activation='tanh'\n",
    "accuracy, trained_model = neural_network(XTrain,XTest,YTrain,YTest,hidden_size, max_iter, solver, activation)\n",
    "print(\"NN Model Test Accuracy:\",accuracy)\n",
    "\n",
    "song = 'DataSets/audio_mono-mic/00_BN3-119-G_solo_mic.wav'\n",
    "\n",
    "midi_info = predict(song,trained_model,hopSize,winSize)\n",
    "to_midi_sheet(midi_info,outfile=\"post_scaled_nn_sheet_music\")"
   ]
  },
  {
   "cell_type": "code",
   "execution_count": null,
   "id": "6b76e03a-bb23-4d9f-a759-b7fdae044ab8",
   "metadata": {},
   "outputs": [
    {
     "name": "stdout",
     "output_type": "stream",
     "text": [
      "NN Model Test Accuracy: 0.5802705086739194\n"
     ]
    }
   ],
   "source": [
    "# NN Using Pre Scaling\n",
    "XData_pre = np.array(XData_pre)\n",
    "XData_pre = XData_pre / max(XData_pre.max(), abs(XData_pre.min()))\n",
    "\n",
    "XTrain,XTest,YTrain,YTest = train_test_split(XData_pre,YData_pre,test_size=0.2)\n",
    "hidden_size=(60,120)\n",
    "max_iter=10000\n",
    "solver='adam'\n",
    "activation='tanh'\n",
    "accuracy, trained_model = neural_network(XTrain,XTest,YTrain,YTest,hidden_size, max_iter, solver, activation)\n",
    "print(\"NN Model Test Accuracy:\",accuracy)\n",
    "\n",
    "song = 'DataSets/audio_mono-mic/00_BN3-119-G_solo_mic.wav'\n",
    "\n",
    "midi_info = predict(song,trained_model,hopSize,winSize)\n",
    "to_midi_sheet(midi_info,outfile=\"pre_scaled_nn_sheet_music\")"
   ]
  },
  {
   "cell_type": "code",
   "execution_count": null,
   "id": "29d59dbd-4ec4-4c57-a832-a0353c12154a",
   "metadata": {},
   "outputs": [
    {
     "name": "stderr",
     "output_type": "stream",
     "text": [
      "/Users/shawnnettleton/opt/miniconda3/envs/apress/lib/python3.8/site-packages/sklearn/manifold/_t_sne.py:982: FutureWarning: The PCA initialization in TSNE will change to have the standard deviation of PC1 equal to 1e-4 in 1.2. This will ensure better convergence.\n",
      "  warnings.warn(\n"
     ]
    },
    {
     "name": "stdout",
     "output_type": "stream",
     "text": [
      "NN Model Test Accuracy: 0.2935901205527786\n"
     ]
    }
   ],
   "source": [
    "# NN Using TSNE Scaling\n",
    "XData_local = x_data_process(XData)\n",
    "XDataTSNE = tsneFit(XData_local, 2)\n",
    "\n",
    "XTrain,XTest,YTrain,YTest = train_test_split(XDataTSNE,YData,test_size=0.2)\n",
    "hidden_size=(60,120)\n",
    "max_iter=10000\n",
    "solver='adam'\n",
    "activation='tanh'\n",
    "accuracy, trained_model = neural_network(XTrain,XTest,YTrain,YTest,hidden_size, max_iter, solver, activation)\n",
    "print(\"NN Model Test Accuracy:\",accuracy)\n",
    "\n",
    "song = 'DataSets/audio_mono-mic/00_BN3-119-G_solo_mic.wav'\n",
    "\n",
    "midi_info = predict(song,trained_model,hopSize,winSize)\n",
    "to_midi_sheet(midi_info,outfile=\"tsne_scaled_nn_sheet_music\")"
   ]
  },
  {
   "cell_type": "markdown",
   "id": "fc8c9a90-f462-474f-bfb2-75af91c9457b",
   "metadata": {},
   "source": [
    "## Support Vector Machine Model Testing"
   ]
  },
  {
   "cell_type": "code",
   "execution_count": null,
   "id": "1a517570-b956-41c3-bec1-c39d7c2b9bef",
   "metadata": {},
   "outputs": [],
   "source": [
    "def gaussianSVM(XTrain, XTest, YTrain, YTest):\n",
    "    #Currently, using successful values from A2, further adjustment with the processed dataset will be needed\n",
    "    clf = SVC(kernel = 'rbf', gamma = 0.01, C = 150, max_iter=100000)\n",
    "    clf.fit(XTrain, YTrain)\n",
    "\n",
    "    return accuracy_score(YTest, clf.predict(XTest)), clf"
   ]
  },
  {
   "cell_type": "code",
   "execution_count": null,
   "id": "d5c8ec2c-6150-4d35-a9a0-096b6cf78e0d",
   "metadata": {},
   "outputs": [],
   "source": [
    "def polySVM(XTrain, XTest, YTrain, YTest):\n",
    "    #Currently, using successful values from A2, further adjustment with the processed dataset will be needed\n",
    "    clf = SVC(kernel = 'poly', gamma = 0.01, C = 150, max_iter=100000)\n",
    "    clf.fit(XTrain, YTrain)\n",
    "\n",
    "    return accuracy_score(YTest, clf.predict(XTest)), clf"
   ]
  },
  {
   "cell_type": "code",
   "execution_count": null,
   "id": "d2ab584e-dc03-41ff-ba5a-16ef369176ad",
   "metadata": {},
   "outputs": [],
   "source": [
    "def sigSVM(XTrain, XTest, YTrain, YTest):\n",
    "    #Currently, using successful values from A2, further adjustment with the processed dataset will be needed\n",
    "    clf = SVC(kernel = 'sigmoid', gamma = 0.01, C = 150, max_iter=100000)\n",
    "    clf.fit(XTrain, YTrain)\n",
    "\n",
    "    return accuracy_score(YTest, clf.predict(XTest)), clf\n"
   ]
  },
  {
   "cell_type": "code",
   "execution_count": null,
   "id": "b8599fea-dc71-414c-81a7-33618a8b5703",
   "metadata": {},
   "outputs": [],
   "source": [
    "def preSVM(XTrain, XTest, YTrain, YTest):\n",
    "    #Currently, using successful values from A2, further adjustment with the processed dataset will be needed\n",
    "    clf = SVC(kernel = 'precomputed', C = 150, max_iter=100000)\n",
    "    clf.fit(XTrain, YTrain)\n",
    "\n",
    "    return accuracy_score(YTest, clf.predict(XTest)), clf"
   ]
  },
  {
   "cell_type": "markdown",
   "id": "e956de12-dc81-4639-8971-fa731a4dc4d8",
   "metadata": {},
   "source": [
    "### RBF Kernel - Gaussian SVM Testing"
   ]
  },
  {
   "cell_type": "code",
   "execution_count": null,
   "id": "77a888bc-530b-4df1-8bc9-64ef7537b279",
   "metadata": {},
   "outputs": [],
   "source": [
    "# RBF Kernel - No Scaling\n",
    "\n",
    "XTrain,XTest,YTrain,YTest = train_test_split(XData,YData,test_size=0.2)\n",
    "accuracy, trained_model = gaussianSVM(XTrain,XTest,YTrain,YTest)\n",
    "print(\"Gaussian SVM Model Test Accuracy:\",accuracy)\n",
    "\n",
    "song = 'DataSets/audio_mono-mic/00_BN3-119-G_solo_mic.wav'\n",
    "\n",
    "midi_info = predict(song,trained_model,hopSize,winSize)\n",
    "to_midi_sheet(midi_info,outfile=\"unscaled_rbf_sheet_music\")"
   ]
  },
  {
   "cell_type": "code",
   "execution_count": null,
   "id": "4aa6f7dc-c6eb-4de2-82a1-bce42296faeb",
   "metadata": {},
   "outputs": [],
   "source": [
    "# RBF Kernel - Post Scaling\n",
    "XData_postscaled = x_data_process(XData)\n",
    "\n",
    "XTrain,XTest,YTrain,YTest = train_test_split(XData_postscaled,YData,test_size=0.2)\n",
    "accuracy, trained_model = gaussianSVM(XTrain,XTest,YTrain,YTest)\n",
    "print(\"Gaussian SVM Model Test Accuracy:\",accuracy)\n",
    "\n",
    "song = 'DataSets/audio_mono-mic/00_BN3-119-G_solo_mic.wav'\n",
    "\n",
    "midi_info = predict(song,trained_model,hopSize,winSize)\n",
    "to_midi_sheet(midi_info,outfile=\"post_scaled_rbf_sheet_music\")"
   ]
  },
  {
   "cell_type": "code",
   "execution_count": null,
   "id": "b8c61d36-3792-4792-9cd0-c2f25e6c1284",
   "metadata": {},
   "outputs": [],
   "source": [
    "# RBF Kernel - Pre Scaling\n",
    "XData_pre = np.array(XData_pre)\n",
    "XData_pre = XData_pre / max(XData_pre.max(), abs(XData_pre.min()))\n",
    "\n",
    "XTrain,XTest,YTrain,YTest = train_test_split(XData_postscaled,YData,test_size=0.2)\n",
    "accuracy, trained_model = gaussianSVM(XTrain,XTest,YTrain,YTest)\n",
    "print(\"Gaussian SVM Model Test Accuracy:\",accuracy)\n",
    "\n",
    "song = 'DataSets/audio_mono-mic/00_BN3-119-G_solo_mic.wav'\n",
    "\n",
    "midi_info = predict(song,trained_model,hopSize,winSize)\n",
    "to_midi_sheet(midi_info,outfile=\"pre_scaled_rbf_sheet_music\")"
   ]
  },
  {
   "cell_type": "code",
   "execution_count": null,
   "id": "fca54906-bdd7-4f05-8869-9ae98b695f4d",
   "metadata": {},
   "outputs": [],
   "source": [
    "# RBF Kernel - TSNE Scaling\n",
    "XData_local = x_data_process(XData)\n",
    "XDataTSNE = tsneFit(XData_local, 2)\n",
    "\n",
    "XTrain,XTest,YTrain,YTest = train_test_split(XDataTSNE,YData,test_size=0.2)\n",
    "accuracy, trained_model = gaussianSVM(XTrain,XTest,YTrain,YTest)\n",
    "print(\"Gaussian SVM Model Test Accuracy:\",accuracy)\n",
    "\n",
    "song = 'DataSets/audio_mono-mic/00_BN3-119-G_solo_mic.wav'\n",
    "\n",
    "midi_info = predict(song,trained_model,hopSize,winSize)\n",
    "to_midi_sheet(midi_info,outfile=\"tsne_scaled_rbf_sheet_music\")"
   ]
  },
  {
   "cell_type": "markdown",
   "id": "62d53e0f-2383-40d5-8b84-60f81003430f",
   "metadata": {},
   "source": [
    "### Poly Kernel - Polynomial SVM Testing"
   ]
  },
  {
   "cell_type": "code",
   "execution_count": null,
   "id": "137ddf7d-f17f-4600-b43c-4494b9f69a16",
   "metadata": {},
   "outputs": [],
   "source": []
  },
  {
   "cell_type": "code",
   "execution_count": null,
   "id": "6e198aad-f6b3-442a-8820-c4c401f366f4",
   "metadata": {},
   "outputs": [],
   "source": []
  },
  {
   "cell_type": "code",
   "execution_count": null,
   "id": "f277cd41-5bba-4fa6-a92d-af971a66e199",
   "metadata": {},
   "outputs": [],
   "source": []
  },
  {
   "cell_type": "code",
   "execution_count": null,
   "id": "311128c3-a2c3-4906-b427-65d93ec4a104",
   "metadata": {},
   "outputs": [],
   "source": []
  },
  {
   "cell_type": "markdown",
   "id": "8c617a1e-ae7e-4ea8-a934-d5ab69135adc",
   "metadata": {},
   "source": [
    "### Sigmoid Kernel - Sigmoid SVM Testing"
   ]
  },
  {
   "cell_type": "code",
   "execution_count": null,
   "id": "63bb0dd1-5db8-4485-92f5-bb68780c4d17",
   "metadata": {},
   "outputs": [],
   "source": []
  },
  {
   "cell_type": "code",
   "execution_count": null,
   "id": "a1fe6fca-bc8c-4fd2-9685-bb123668e8d4",
   "metadata": {},
   "outputs": [],
   "source": []
  },
  {
   "cell_type": "code",
   "execution_count": null,
   "id": "c0d368d0-e069-495c-a91b-fa60a68cd2d1",
   "metadata": {},
   "outputs": [],
   "source": []
  },
  {
   "cell_type": "code",
   "execution_count": null,
   "id": "48a47b18-62f6-41d9-96b8-3de1d3e7ed24",
   "metadata": {},
   "outputs": [],
   "source": []
  }
 ],
 "metadata": {
  "colab": {
   "collapsed_sections": [],
   "name": "Seng474Project.ipynb",
   "provenance": [],
   "toc_visible": true
  },
  "kernelspec": {
   "display_name": "Python 3 (ipykernel)",
   "language": "python",
   "name": "python3"
  },
  "language_info": {
   "codemirror_mode": {
    "name": "ipython",
    "version": 3
   },
   "file_extension": ".py",
   "mimetype": "text/x-python",
   "name": "python",
   "nbconvert_exporter": "python",
   "pygments_lexer": "ipython3",
   "version": "3.9.12"
  }
 },
 "nbformat": 4,
 "nbformat_minor": 4
}
